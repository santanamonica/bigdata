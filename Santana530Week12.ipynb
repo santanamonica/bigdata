{
 "cells": [
  {
   "cell_type": "code",
   "execution_count": 9,
   "id": "02a9797d",
   "metadata": {},
   "outputs": [],
   "source": [
    "# DSC 530 Term Project - Monica Santana\n",
    "\n",
    "# Import packages\n",
    "\n",
    "import csv\n",
    "import pandas as pd"
   ]
  },
  {
   "cell_type": "code",
   "execution_count": 67,
   "id": "3fa462f9",
   "metadata": {},
   "outputs": [
    {
     "name": "stdout",
     "output_type": "stream",
     "text": [
      "\n",
      "\n",
      "    CulturalSimilarities  CommonInterests  NoofChildrenfromPreviousMarriage  \\\n",
      "0             47.847460        88.099898                          4.402822   \n",
      "1             30.188517        57.020971                          4.367024   \n",
      "2             10.340252        80.590985                          1.197120   \n",
      "3              1.003407        99.718078                          3.392041   \n",
      "4             93.291581        52.896199                          2.373553   \n",
      "\n",
      "   DesiretoMarry  DivorceProbability  \n",
      "0      22.868019            2.760190  \n",
      "1      40.336843            1.962979  \n",
      "2      45.941845            2.858803  \n",
      "3       2.924863            1.404621  \n",
      "4      89.851492            1.318819  \n"
     ]
    }
   ],
   "source": [
    "# Import dataset and clean to show only the variables I plan on working with\n",
    "\n",
    "mydata = pd.read_csv('Downloads/Marriage_Divorce_DB.csv')\n",
    "\n",
    "clean_data = mydata[['Cultural Similarities', 'Common Interests', 'No of Children from Previous Marriage', \n",
    "                     'Desire to Marry', 'Divorce Probability']]\n",
    "\n",
    "clean_data.columns = clean_data.columns.str.replace(' ', '') \n",
    "print(\"\\n\\n\", clean_data.head())"
   ]
  },
  {
   "cell_type": "code",
   "execution_count": null,
   "id": "6309d0d6",
   "metadata": {},
   "outputs": [],
   "source": [
    "# Outlining my statistical question/hypothesis: \n",
    "\n",
    "# I want to look at what are the highest causes of divorce.\n",
    "\n",
    "# I plan on looking at multiple variables/factors to see what are the least and most causes of divorce.\n",
    "# Marriage is a technology that has been around since 2000 B.C. Although it has been around for that long, the \n",
    "# divorce rate only continues to go up. Marriages end up in divorce, 54% of the time. That is not including those\n",
    "# who stay married just for their kids, or to not spend on the financial aspects of divorce. There are many people\n",
    "# for marriage like myself, but also many people against. Can they be blamed though if the statistic is higher for \n",
    "# failed marriages? Why is this rate so high, and what are we doing now more than ever, that continues to increase\n",
    "# this rate. Is marriage an outdated technology or are there more outlets for marriages to fall apart easier such \n",
    "# as social media. Divorce is not something that is easily dealt with or easy to go through especially with children \n",
    "# involved. With the help of data science, I can look at a dataset involving divorces and the percentages of \n",
    "# different issues or reasons why people fail to overcome the divorce statistic."
   ]
  },
  {
   "cell_type": "code",
   "execution_count": null,
   "id": "b26373c7",
   "metadata": {},
   "outputs": [],
   "source": [
    "# Describe what the 5 variables mean in the dataset that I will use for my analysis:\n",
    "\n",
    "# Cultural Similarities is the integer percentage if the couple has the same cultural or not\n",
    "\n",
    "# Common Interests is the integer percentage if the couple experiences common interests between one another \n",
    "\n",
    "# No of Children from Previous Marriage is the number of kids from a previous marriage\n",
    "\n",
    "# Desire to Marry is integer percentage of the couple desiring to get married in the first place\n",
    "\n",
    "# Divorce Probability is the total numerical rate of the chances the couple will divorce on a scale of 1 being\n",
    "# least likely to divorce and to 3 being higher chance of divorce."
   ]
  },
  {
   "cell_type": "code",
   "execution_count": 71,
   "id": "d1749495",
   "metadata": {},
   "outputs": [
    {
     "data": {
      "text/plain": [
       "<function matplotlib.pyplot.show(close=None, block=None)>"
      ]
     },
     "execution_count": 71,
     "metadata": {},
     "output_type": "execute_result"
    },
    {
     "data": {
      "image/png": "[encoded data removed]",
      "text/plain": [
       "<Figure size 1000x500 with 1 Axes>"
      ]
     },
     "metadata": {},
     "output_type": "display_data"
    }
   ],
   "source": [
    "# Include a histogram of each of the 5 variables – in your summary and analysis, identify any outliers and explain \n",
    "# the reasoning for them being outliers and how you believe they should be handled (Chapter 2)\n",
    "\n",
    "# Histogram #1 for Cultural Similarities percentage between couples\n",
    "\n",
    "import matplotlib.pyplot as plt\n",
    "\n",
    "cul_sim = clean_data['CulturalSimilarities']\n",
    "plt.figure(figsize=(10,5))\n",
    "plt.hist(cul_sim, bins=25)\n",
    "plt.title('Divorce Factor #1: Cultural Similarities')\n",
    "plt.xlabel('Cultural Similarities Percentage')\n",
    "plt.ylabel('Frequency')\n",
    "plt.grid(axis='y')\n",
    "plt.show"
   ]
  },
  {
   "cell_type": "code",
   "execution_count": 72,
   "id": "8d189372",
   "metadata": {},
   "outputs": [
    {
     "data": {
      "text/plain": [
       "45.354728561390004"
      ]
     },
     "execution_count": 72,
     "metadata": {},
     "output_type": "execute_result"
    }
   ],
   "source": [
    "# Summary Statistics for Variable #1: Cultural Similarities\n",
    "# 1. Mean\n",
    "# 2. Mode \n",
    "# 3. Variance\n",
    "# 4. Standard Deviation\n",
    "# 5. Skewness\n",
    "# 6. Kurtosis\n",
    "\n",
    "# Mean\n",
    "\n",
    "mean1 = cul_sim.mean()\n",
    "mean1"
   ]
  },
  {
   "cell_type": "code",
   "execution_count": 73,
   "id": "077050bb",
   "metadata": {},
   "outputs": [
    {
     "data": {
      "text/plain": [
       "0      1.003407\n",
       "1      2.971262\n",
       "2      3.572087\n",
       "3      5.206845\n",
       "4      6.219348\n",
       "        ...    \n",
       "95    96.605939\n",
       "96    97.982695\n",
       "97    99.285709\n",
       "98    99.729419\n",
       "99    99.753878\n",
       "Name: CulturalSimilarities, Length: 100, dtype: float64"
      ]
     },
     "execution_count": 73,
     "metadata": {},
     "output_type": "execute_result"
    }
   ],
   "source": [
    "# Mode\n",
    "\n",
    "mode1 = cul_sim.mode()\n",
    "mode1"
   ]
  },
  {
   "cell_type": "code",
   "execution_count": 187,
   "id": "e5b128da",
   "metadata": {},
   "outputs": [
    {
     "data": {
      "text/plain": [
       "809.7429681731943"
      ]
     },
     "execution_count": 187,
     "metadata": {},
     "output_type": "execute_result"
    }
   ],
   "source": [
    "# Variance to describe the spread\n",
    "\n",
    "cul_sim.var()"
   ]
  },
  {
   "cell_type": "code",
   "execution_count": 188,
   "id": "46375905",
   "metadata": {},
   "outputs": [
    {
     "data": {
      "text/plain": [
       "28.455982994322905"
      ]
     },
     "execution_count": 188,
     "metadata": {},
     "output_type": "execute_result"
    }
   ],
   "source": [
    "# Standard deviation\n",
    "\n",
    "cul_sim.std()"
   ]
  },
  {
   "cell_type": "code",
   "execution_count": 74,
   "id": "5b0109e6",
   "metadata": {},
   "outputs": [
    {
     "name": "stdout",
     "output_type": "stream",
     "text": [
      "0.3752567625918783\n"
     ]
    }
   ],
   "source": [
    "# Skewness\n",
    "\n",
    "from scipy.stats import skew \n",
    "\n",
    "print(skew(cul_sim, axis=0, bias=True))"
   ]
  },
  {
   "cell_type": "code",
   "execution_count": 75,
   "id": "2a768cc6",
   "metadata": {},
   "outputs": [
    {
     "name": "stdout",
     "output_type": "stream",
     "text": [
      "-1.0920028825365715\n"
     ]
    }
   ],
   "source": [
    "# Kurtosis to describe the tails\n",
    "\n",
    "from scipy.stats import kurtosis\n",
    "\n",
    "print(kurtosis(cul_sim, axis=0, bias=True))"
   ]
  },
  {
   "cell_type": "code",
   "execution_count": 77,
   "id": "8446813b",
   "metadata": {},
   "outputs": [
    {
     "data": {
      "text/plain": [
       "<function matplotlib.pyplot.show(close=None, block=None)>"
      ]
     },
     "execution_count": 77,
     "metadata": {},
     "output_type": "execute_result"
    },
    {
     "data": {
      "image/png": "[encoded data removed]",
      "text/plain": [
       "<Figure size 1000x500 with 1 Axes>"
      ]
     },
     "metadata": {},
     "output_type": "display_data"
    }
   ],
   "source": [
    "# Histogram #2 for Common Interests percentage between couples\n",
    "\n",
    "com_int = clean_data['CommonInterests']\n",
    "plt.figure(figsize=(10,5))\n",
    "plt.hist(com_int, bins=25)\n",
    "plt.title('Divorce Factor #2: Common Interests')\n",
    "plt.xlabel('Common Interests Percentage')\n",
    "plt.ylabel('Frequency')\n",
    "plt.grid(axis='y')\n",
    "plt.show"
   ]
  },
  {
   "cell_type": "code",
   "execution_count": 78,
   "id": "c7c7128d",
   "metadata": {},
   "outputs": [
    {
     "data": {
      "text/plain": [
       "74.9987836206"
      ]
     },
     "execution_count": 78,
     "metadata": {},
     "output_type": "execute_result"
    }
   ],
   "source": [
    "# Summary Statistics for Variable #2: Common Interests\n",
    "\n",
    "# Mean\n",
    "\n",
    "mean2 = com_int.mean()\n",
    "mean2"
   ]
  },
  {
   "cell_type": "code",
   "execution_count": 79,
   "id": "a3bcb816",
   "metadata": {},
   "outputs": [
    {
     "data": {
      "text/plain": [
       "0     52.306687\n",
       "1     52.396457\n",
       "2     52.896199\n",
       "3     53.304871\n",
       "4     53.795912\n",
       "        ...    \n",
       "95    99.275255\n",
       "96    99.284923\n",
       "97    99.301462\n",
       "98    99.458518\n",
       "99    99.718078\n",
       "Name: CommonInterests, Length: 100, dtype: float64"
      ]
     },
     "execution_count": 79,
     "metadata": {},
     "output_type": "execute_result"
    }
   ],
   "source": [
    "# Mode\n",
    "\n",
    "mode2 = com_int.mode()\n",
    "mode2"
   ]
  },
  {
   "cell_type": "code",
   "execution_count": 189,
   "id": "d4893e95",
   "metadata": {},
   "outputs": [
    {
     "data": {
      "text/plain": [
       "198.10989687037352"
      ]
     },
     "execution_count": 189,
     "metadata": {},
     "output_type": "execute_result"
    }
   ],
   "source": [
    "# Variance to describe the spread\n",
    "\n",
    "com_int.var()"
   ]
  },
  {
   "cell_type": "code",
   "execution_count": 190,
   "id": "75f42181",
   "metadata": {},
   "outputs": [
    {
     "data": {
      "text/plain": [
       "14.075151753014016"
      ]
     },
     "execution_count": 190,
     "metadata": {},
     "output_type": "execute_result"
    }
   ],
   "source": [
    "# Standard deviation\n",
    "\n",
    "com_int.std()"
   ]
  },
  {
   "cell_type": "code",
   "execution_count": 80,
   "id": "2123a208",
   "metadata": {},
   "outputs": [
    {
     "name": "stdout",
     "output_type": "stream",
     "text": [
      "0.11516863998968228\n"
     ]
    }
   ],
   "source": [
    "# Skewness\n",
    "\n",
    "print(skew(com_int, axis=0, bias=True))"
   ]
  },
  {
   "cell_type": "code",
   "execution_count": 81,
   "id": "97c57397",
   "metadata": {},
   "outputs": [
    {
     "name": "stdout",
     "output_type": "stream",
     "text": [
      "-1.0831035981111692\n"
     ]
    }
   ],
   "source": [
    "# Kurtosis to describe the tails\n",
    "\n",
    "print(kurtosis(com_int, axis=0, bias=True))"
   ]
  },
  {
   "cell_type": "code",
   "execution_count": 83,
   "id": "32053118",
   "metadata": {},
   "outputs": [
    {
     "data": {
      "text/plain": [
       "<function matplotlib.pyplot.show(close=None, block=None)>"
      ]
     },
     "execution_count": 83,
     "metadata": {},
     "output_type": "execute_result"
    },
    {
     "data": {
      "image/png": "[encoded data removed]",
      "text/plain": [
       "<Figure size 1000x500 with 1 Axes>"
      ]
     },
     "metadata": {},
     "output_type": "display_data"
    }
   ],
   "source": [
    "# Histogram #3 for No of Children from Previous Marriage between couples\n",
    "\n",
    "no_of_child = clean_data['NoofChildrenfromPreviousMarriage']\n",
    "plt.figure(figsize=(10,5))\n",
    "plt.hist(no_of_child, bins=25)\n",
    "plt.title('Divorce Factor #3: Number of Children from a Previous Marriage')\n",
    "plt.xlabel('Number of Children')\n",
    "plt.ylabel('Frequency')\n",
    "plt.grid(axis='y')\n",
    "plt.show"
   ]
  },
  {
   "cell_type": "code",
   "execution_count": 84,
   "id": "e996077f",
   "metadata": {},
   "outputs": [
    {
     "data": {
      "text/plain": [
       "3.00406576572"
      ]
     },
     "execution_count": 84,
     "metadata": {},
     "output_type": "execute_result"
    }
   ],
   "source": [
    "# Summary Statistics for Variable #3: Number of Children from a Previous Marriage\n",
    "\n",
    "# Mean\n",
    "\n",
    "mean3 = no_of_child.mean()\n",
    "mean3"
   ]
  },
  {
   "cell_type": "code",
   "execution_count": 85,
   "id": "e37905ad",
   "metadata": {},
   "outputs": [
    {
     "data": {
      "text/plain": [
       "0     1.025752\n",
       "1     1.026593\n",
       "2     1.086510\n",
       "3     1.090917\n",
       "4     1.159933\n",
       "        ...   \n",
       "95    4.799889\n",
       "96    4.815063\n",
       "97    4.880139\n",
       "98    4.888007\n",
       "99    4.964397\n",
       "Name: NoofChildrenfromPreviousMarriage, Length: 100, dtype: float64"
      ]
     },
     "execution_count": 85,
     "metadata": {},
     "output_type": "execute_result"
    }
   ],
   "source": [
    "# Mode\n",
    "\n",
    "mode3 = no_of_child.mode()\n",
    "mode3"
   ]
  },
  {
   "cell_type": "code",
   "execution_count": 191,
   "id": "ada53a05",
   "metadata": {},
   "outputs": [
    {
     "data": {
      "text/plain": [
       "1.4256572023394736"
      ]
     },
     "execution_count": 191,
     "metadata": {},
     "output_type": "execute_result"
    }
   ],
   "source": [
    "# Variance to describe the spread\n",
    "\n",
    "no_of_child.var()"
   ]
  },
  {
   "cell_type": "code",
   "execution_count": 192,
   "id": "d6ae3164",
   "metadata": {},
   "outputs": [
    {
     "data": {
      "text/plain": [
       "1.194008878668611"
      ]
     },
     "execution_count": 192,
     "metadata": {},
     "output_type": "execute_result"
    }
   ],
   "source": [
    "# Standard deviation\n",
    "\n",
    "no_of_child.std()"
   ]
  },
  {
   "cell_type": "code",
   "execution_count": 86,
   "id": "45c19dcd",
   "metadata": {},
   "outputs": [
    {
     "name": "stdout",
     "output_type": "stream",
     "text": [
      "-0.03512902608676944\n"
     ]
    }
   ],
   "source": [
    "# Skewness\n",
    "\n",
    "print(skew(no_of_child, axis=0, bias=True))"
   ]
  },
  {
   "cell_type": "code",
   "execution_count": 87,
   "id": "a0168006",
   "metadata": {},
   "outputs": [
    {
     "name": "stdout",
     "output_type": "stream",
     "text": [
      "-1.2953099184248709\n"
     ]
    }
   ],
   "source": [
    "# Kurtosis to describe the tails\n",
    "\n",
    "print(kurtosis(no_of_child, axis=0, bias=True))"
   ]
  },
  {
   "cell_type": "code",
   "execution_count": 197,
   "id": "caa2d88c",
   "metadata": {},
   "outputs": [
    {
     "data": {
      "text/plain": [
       "<function matplotlib.pyplot.show(close=None, block=None)>"
      ]
     },
     "execution_count": 197,
     "metadata": {},
     "output_type": "execute_result"
    },
    {
     "data": {
      "image/png": "[encoded data removed]",
      "text/plain": [
       "<Figure size 1000x500 with 1 Axes>"
      ]
     },
     "metadata": {},
     "output_type": "display_data"
    }
   ],
   "source": [
    "# Histogram #4 for Desire to Marry percentage\n",
    "\n",
    "des_mar = clean_data['DesiretoMarry']\n",
    "plt.figure(figsize=(10,5))\n",
    "plt.hist(des_mar, bins=25)\n",
    "plt.title('Divorce Factor #4: Desire to Marry')\n",
    "plt.xlabel('Desire to Marry Percentage')\n",
    "plt.ylabel('Frequency')\n",
    "plt.grid(axis='y')\n",
    "plt.show"
   ]
  },
  {
   "cell_type": "code",
   "execution_count": 91,
   "id": "6972a1d2",
   "metadata": {},
   "outputs": [
    {
     "data": {
      "text/plain": [
       "47.69228463541"
      ]
     },
     "execution_count": 91,
     "metadata": {},
     "output_type": "execute_result"
    }
   ],
   "source": [
    "# Summary Statistics for Variable #4: Desire to Marry\n",
    "\n",
    "# Mean\n",
    "\n",
    "mean4 = des_mar.mean()\n",
    "mean4"
   ]
  },
  {
   "cell_type": "code",
   "execution_count": 92,
   "id": "39848022",
   "metadata": {},
   "outputs": [
    {
     "data": {
      "text/plain": [
       "0      2.924863\n",
       "1      3.245621\n",
       "2      4.599927\n",
       "3      5.569753\n",
       "4      5.878295\n",
       "        ...    \n",
       "95    95.040088\n",
       "96    95.086009\n",
       "97    98.817468\n",
       "98    99.814570\n",
       "99    99.948651\n",
       "Name: DesiretoMarry, Length: 100, dtype: float64"
      ]
     },
     "execution_count": 92,
     "metadata": {},
     "output_type": "execute_result"
    }
   ],
   "source": [
    "# Mode\n",
    "\n",
    "mode4 = des_mar.mode()\n",
    "mode4"
   ]
  },
  {
   "cell_type": "code",
   "execution_count": 193,
   "id": "0ef83074",
   "metadata": {},
   "outputs": [
    {
     "data": {
      "text/plain": [
       "814.2936502867464"
      ]
     },
     "execution_count": 193,
     "metadata": {},
     "output_type": "execute_result"
    }
   ],
   "source": [
    "# Variance to describe the spread\n",
    "\n",
    "des_mar.var()"
   ]
  },
  {
   "cell_type": "code",
   "execution_count": 194,
   "id": "8c150c2f",
   "metadata": {},
   "outputs": [
    {
     "data": {
      "text/plain": [
       "28.535830989945715"
      ]
     },
     "execution_count": 194,
     "metadata": {},
     "output_type": "execute_result"
    }
   ],
   "source": [
    "# Standard deviation\n",
    "\n",
    "des_mar.std()"
   ]
  },
  {
   "cell_type": "code",
   "execution_count": 93,
   "id": "4acfd254",
   "metadata": {},
   "outputs": [
    {
     "name": "stdout",
     "output_type": "stream",
     "text": [
      "0.14695522804619218\n"
     ]
    }
   ],
   "source": [
    "# Skewness\n",
    "\n",
    "print(skew(des_mar, axis=0, bias=True))"
   ]
  },
  {
   "cell_type": "code",
   "execution_count": 94,
   "id": "8f18f15b",
   "metadata": {},
   "outputs": [
    {
     "name": "stdout",
     "output_type": "stream",
     "text": [
      "-1.093304714789781\n"
     ]
    }
   ],
   "source": [
    "# Kurtosis to describe the tails\n",
    "\n",
    "print(kurtosis(des_mar, axis=0, bias=True))"
   ]
  },
  {
   "cell_type": "code",
   "execution_count": 96,
   "id": "e814df52",
   "metadata": {},
   "outputs": [
    {
     "data": {
      "text/plain": [
       "<function matplotlib.pyplot.show(close=None, block=None)>"
      ]
     },
     "execution_count": 96,
     "metadata": {},
     "output_type": "execute_result"
    },
    {
     "data": {
      "image/png": "[encoded data removed]",
      "text/plain": [
       "<Figure size 1000x500 with 1 Axes>"
      ]
     },
     "metadata": {},
     "output_type": "display_data"
    }
   ],
   "source": [
    "# Histogram #5 for Divorce Probability rate on a scale of 1 being the least likely to divorce, to 3 being the most \n",
    "# likely to divorce\n",
    "\n",
    "div_prob = clean_data['DivorceProbability']\n",
    "plt.figure(figsize=(10,5))\n",
    "plt.hist(div_prob, bins=25)\n",
    "plt.title('Divorce Probability')\n",
    "plt.xlabel('Divorce Probability Rate')\n",
    "plt.ylabel('Frequency')\n",
    "plt.grid(axis='y')\n",
    "plt.show"
   ]
  },
  {
   "cell_type": "code",
   "execution_count": 97,
   "id": "341ca68a",
   "metadata": {},
   "outputs": [
    {
     "data": {
      "text/plain": [
       "2.06722221983"
      ]
     },
     "execution_count": 97,
     "metadata": {},
     "output_type": "execute_result"
    }
   ],
   "source": [
    "# Summary Statistics for Variable #5: Divorce Probability\n",
    "\n",
    "# Mean\n",
    "\n",
    "mean5 = div_prob.mean()\n",
    "mean5"
   ]
  },
  {
   "cell_type": "code",
   "execution_count": 98,
   "id": "e255d45e",
   "metadata": {},
   "outputs": [
    {
     "data": {
      "text/plain": [
       "0     1.010215\n",
       "1     1.024550\n",
       "2     1.033088\n",
       "3     1.042004\n",
       "4     1.062269\n",
       "        ...   \n",
       "95    2.915978\n",
       "96    2.930455\n",
       "97    2.940200\n",
       "98    2.949696\n",
       "99    2.990040\n",
       "Name: DivorceProbability, Length: 100, dtype: float64"
      ]
     },
     "execution_count": 98,
     "metadata": {},
     "output_type": "execute_result"
    }
   ],
   "source": [
    "# Mode\n",
    "\n",
    "mode5 = div_prob.mode()\n",
    "mode5"
   ]
  },
  {
   "cell_type": "code",
   "execution_count": 195,
   "id": "98a1c6cd",
   "metadata": {},
   "outputs": [
    {
     "data": {
      "text/plain": [
       "0.31693771496749695"
      ]
     },
     "execution_count": 195,
     "metadata": {},
     "output_type": "execute_result"
    }
   ],
   "source": [
    "# Variance to describe the spread\n",
    "\n",
    "div_prob.var()"
   ]
  },
  {
   "cell_type": "code",
   "execution_count": 196,
   "id": "96f18543",
   "metadata": {},
   "outputs": [
    {
     "data": {
      "text/plain": [
       "0.5629722150936909"
      ]
     },
     "execution_count": 196,
     "metadata": {},
     "output_type": "execute_result"
    }
   ],
   "source": [
    "# Standard deviation\n",
    "\n",
    "div_prob.std()"
   ]
  },
  {
   "cell_type": "code",
   "execution_count": 99,
   "id": "68d4e4a6",
   "metadata": {},
   "outputs": [
    {
     "name": "stdout",
     "output_type": "stream",
     "text": [
      "-0.09880144777688209\n"
     ]
    }
   ],
   "source": [
    "# Skewness\n",
    "\n",
    "print(skew(div_prob, axis=0, bias=True))"
   ]
  },
  {
   "cell_type": "code",
   "execution_count": 100,
   "id": "94dc3138",
   "metadata": {},
   "outputs": [
    {
     "name": "stdout",
     "output_type": "stream",
     "text": [
      "-1.1355467995223671\n"
     ]
    }
   ],
   "source": [
    "# Kurtosis to describe the tails\n",
    "\n",
    "print(kurtosis(div_prob, axis=0, bias=True))"
   ]
  },
  {
   "cell_type": "code",
   "execution_count": 116,
   "id": "1d08a81f",
   "metadata": {},
   "outputs": [],
   "source": [
    "# Import more packages\n",
    "\n",
    "import thinkplot\n",
    "import thinkstats2\n",
    "\n",
    "# Compare two scenarios in your data using a PMF with the same variable, I will be using variable \"Common Interests\"\n",
    "\n",
    "# Split data into more or less common interests in marriages, 1 group being less than 75% having less common\n",
    "# interests and more than 75% having more common interests amongst one another\n",
    "\n",
    "less_int = clean_data[clean_data.CommonInterests < 75]\n",
    "more_int = clean_data[clean_data.CommonInterests > 75]"
   ]
  },
  {
   "cell_type": "code",
   "execution_count": 117,
   "id": "25ea7205",
   "metadata": {},
   "outputs": [],
   "source": [
    "# Creates PMF\n",
    "\n",
    "lessint_pmf = thinkstats2.Pmf(less_int.CommonInterests)\n",
    "moreint_pmf = thinkstats2.Pmf(more_int.CommonInterests)"
   ]
  },
  {
   "cell_type": "code",
   "execution_count": 183,
   "id": "3ef2321b",
   "metadata": {},
   "outputs": [
    {
     "data": {
      "image/png": "[encoded data removed]",
      "text/plain": [
       "<Figure size 640x480 with 1 Axes>"
      ]
     },
     "metadata": {},
     "output_type": "display_data"
    },
    {
     "data": {
      "text/plain": [
       "<Figure size 800x600 with 0 Axes>"
      ]
     },
     "metadata": {},
     "output_type": "display_data"
    }
   ],
   "source": [
    "# Plots PMF\n",
    "\n",
    "thinkplot.PrePlot(2)\n",
    "thinkplot.Pmfs([lessint_pmf, moreint_pmf])\n",
    "thinkplot.Show(xlabel = 'Common Interests',\n",
    "               axis = [45, 100, 0, 0.025])"
   ]
  },
  {
   "cell_type": "code",
   "execution_count": 180,
   "id": "4a3a76af",
   "metadata": {},
   "outputs": [
    {
     "data": {
      "image/png": "[encoded data removed]",
      "text/plain": [
       "<Figure size 640x480 with 1 Axes>"
      ]
     },
     "metadata": {},
     "output_type": "display_data"
    }
   ],
   "source": [
    "# Create 1 CDF with one of your variables\n",
    "\n",
    "comint_cdf = thinkstats2.Cdf(clean_data.CommonInterests, label='Common Interests')\n",
    "thinkplot.Cdf(comint_cdf)\n",
    "thinkplot.Config(xlabel='Common Interests % in Marriages', ylabel='CDF', loc='upper left')"
   ]
  },
  {
   "cell_type": "code",
   "execution_count": null,
   "id": "7b1efa65",
   "metadata": {},
   "outputs": [],
   "source": [
    "# What does this tell you about your variable and how does it address the question you are trying to answer (Ch. 4)\n",
    "\n",
    "# This CDF shows that this is a normal distribution of CDF for the variable of common interests. There are not any\n",
    "# common values since there are no steep/vertical lines in the graph. The values are all different and show there\n",
    "# are no high or low percentage of common interests in marriages. There are an even amount of all percentages of\n",
    "# having common interests. There are two flat lines around the 90% mark of having common interests which means that\n",
    "# there are few values in that area. The PMF also confirms that there are the same amount of percentages with less\n",
    "# and more common interests in marriages. This addresses my question of \"what are the highest causes of divorce\"\n",
    "# by showing that the variable of common interests not being a high factor in divorce. Since more or less interests \n",
    "# does not really make a difference in marriages."
   ]
  },
  {
   "cell_type": "code",
   "execution_count": 199,
   "id": "2805792b",
   "metadata": {},
   "outputs": [
    {
     "data": {
      "image/png": "[encoded data removed]",
      "text/plain": [
       "<Figure size 640x480 with 1 Axes>"
      ]
     },
     "metadata": {},
     "output_type": "display_data"
    }
   ],
   "source": [
    "# Plot 1 analytical distribution and provide your analysis on how it applies to the dataset you have chosen (Ch. 5)\n",
    "\n",
    "# The normal probability plot shows this variable deviates from the model at the tails, specifically the left lower \n",
    "# end tail. It applies to the dataset since there are fewer values at 0 and 100 for the desire to marry. Most\n",
    "# values fall near the mean.\n",
    "\n",
    "analy_data = clean_data.DesiretoMarry\n",
    "\n",
    "mean, var = thinkstats2.TrimmedMeanVar(analy_data, p=0.01)\n",
    "std = np.sqrt(var)\n",
    "\n",
    "xs = [-4, 4]\n",
    "fxs, fys = thinkstats2.FitLine(xs, mean, std)\n",
    "thinkplot.Plot(fxs, fys, linewidth=4, color=\"0.8\")\n",
    "\n",
    "xs, ys = thinkstats2.NormalProbability(analy_data)\n",
    "thinkplot.Plot(xs, ys, label=\"DesiretoMarry\")\n",
    "\n",
    "thinkplot.Config(\n",
    "    title=\"Normal Probability Plot\",\n",
    "    xlabel=\"Standard deviations from mean\",\n",
    "    ylabel=\"Desire to Marry %\",\n",
    ")"
   ]
  },
  {
   "cell_type": "code",
   "execution_count": 201,
   "id": "ed1ba2ec",
   "metadata": {},
   "outputs": [
    {
     "data": {
      "text/plain": [
       "Text(24.500000000000007, 0.5, 'Desire to Marry %')"
      ]
     },
     "execution_count": 201,
     "metadata": {},
     "output_type": "execute_result"
    },
    {
     "data": {
      "image/png": "[encoded data removed]",
      "text/plain": [
       "<Figure size 500x500 with 1 Axes>"
      ]
     },
     "metadata": {},
     "output_type": "display_data"
    }
   ],
   "source": [
    "# Create two scatter plots comparing two variables and provide your analysis on correlation and causation. Remember,\n",
    "# covariance, Pearson’s correlation, and Non-Linear Relationships should also be considered during your analysis \n",
    "# (Ch. 7)\n",
    "\n",
    "# First scatter plot to compare variables \"Desire to Marry\", and \"Divorce Probability\"\n",
    "# The results show a non-linear relationship. The regression line shows the desire to marry % is lower when the \n",
    "# divorce rate is higher and vice versa. When the desire to marry percentage is higher, the divorce probability \n",
    "# rate is lower. This assumption one would generally make would prove to be correct.\n",
    "\n",
    "import seaborn as sns\n",
    "\n",
    "sns.lmplot(x = 'DivorceProbability', y = 'DesiretoMarry', data = clean_data, line_kws = {'color': 'pink'})\n",
    "plt.scatter(clean_data.DivorceProbability, clean_data.DesiretoMarry, alpha = 0.50, color = 'purple')\n",
    "plt.suptitle('Desire to Marry and Divorce Probability')\n",
    "plt.xlabel('Divorce Probability Rate')\n",
    "plt.ylabel('Desire to Marry %')"
   ]
  },
  {
   "cell_type": "code",
   "execution_count": 144,
   "id": "b5505eab",
   "metadata": {},
   "outputs": [
    {
     "data": {
      "text/plain": [
       "array([[ 3.16937715e-01, -1.41539685e+00],\n",
       "       [-1.41539685e+00,  8.14293650e+02]])"
      ]
     },
     "execution_count": 144,
     "metadata": {},
     "output_type": "execute_result"
    }
   ],
   "source": [
    "# Covariance for first scatterplot\n",
    "\n",
    "# The variance of the divorce probability rate is 3.16 and desire to marry variance is 8.14. The covariance \n",
    "# between both variables is -1.42. This also shows that when one variable increases, the other decreases.\n",
    "\n",
    "import numpy as np\n",
    "\n",
    "np.cov(clean_data.DivorceProbability, clean_data.DesiretoMarry)"
   ]
  },
  {
   "cell_type": "code",
   "execution_count": 145,
   "id": "d5d4803a",
   "metadata": {},
   "outputs": [
    {
     "data": {
      "text/plain": [
       "array([[ 1.        , -0.08810504],\n",
       "       [-0.08810504,  1.        ]])"
      ]
     },
     "execution_count": 145,
     "metadata": {},
     "output_type": "execute_result"
    }
   ],
   "source": [
    "# Pearson's Correlation for first scatterplot\n",
    "\n",
    "# Output of Pearson's shows -.08 which would show a negative direction and weak in strength. When the desire to\n",
    "# marry percentage is high, the divorce probability rate is lower. And vice versa, so this would also confirm the\n",
    "# scatter plot analysis. \n",
    "\n",
    "np.corrcoef(clean_data.DivorceProbability, clean_data.DesiretoMarry)"
   ]
  },
  {
   "cell_type": "code",
   "execution_count": 202,
   "id": "16d5d3d3",
   "metadata": {},
   "outputs": [
    {
     "data": {
      "text/plain": [
       "Text(24.500000000000007, 0.5, 'Cultural Similarities %')"
      ]
     },
     "execution_count": 202,
     "metadata": {},
     "output_type": "execute_result"
    },
    {
     "data": {
      "image/png": "[encoded data removed]",
      "text/plain": [
       "<Figure size 500x500 with 1 Axes>"
      ]
     },
     "metadata": {},
     "output_type": "display_data"
    }
   ],
   "source": [
    "# Second scatterplot comparing variables \"Cultural Similarities\" and \"Divorce Probability\"\n",
    "\n",
    "# The results show a non-linear relationship. The regression line shows the cultural similarities percentage is \n",
    "# lower when the divorce rate is higher. Vice versa, when the cultural similarities percentage is higher, the\n",
    "# divorce probability rate is lower. \n",
    "\n",
    "sns.lmplot(x = 'DivorceProbability', y = 'CulturalSimilarities', data = clean_data, line_kws = {'color': 'pink'})\n",
    "plt.scatter(clean_data.DivorceProbability, clean_data.CulturalSimilarities, alpha = 0.50, color = 'purple')\n",
    "plt.suptitle('Cultural Similarities and Divorce Probability')\n",
    "plt.xlabel('Divorce Probability Rate')\n",
    "plt.ylabel('Cultural Similarities %')"
   ]
  },
  {
   "cell_type": "code",
   "execution_count": 147,
   "id": "51afd214",
   "metadata": {},
   "outputs": [
    {
     "data": {
      "text/plain": [
       "array([[ 3.16937715e-01, -5.32471896e-01],\n",
       "       [-5.32471896e-01,  8.09742968e+02]])"
      ]
     },
     "execution_count": 147,
     "metadata": {},
     "output_type": "execute_result"
    }
   ],
   "source": [
    "# Covariance for second scatterplot\n",
    "\n",
    "# The variance of the divorce probability rate is 3.17 and cultural similarities is 8.10. The covariance between \n",
    "# both variables is -5.32. This also shows that when one variable increases, the other decreases reinforcing the\n",
    "# data output from the scatter plot.\n",
    "\n",
    "np.cov(clean_data.DivorceProbability, clean_data.CulturalSimilarities)"
   ]
  },
  {
   "cell_type": "code",
   "execution_count": 148,
   "id": "2a1fb34f",
   "metadata": {},
   "outputs": [
    {
     "data": {
      "text/plain": [
       "array([[ 1.       , -0.0332381],\n",
       "       [-0.0332381,  1.       ]])"
      ]
     },
     "execution_count": 148,
     "metadata": {},
     "output_type": "execute_result"
    }
   ],
   "source": [
    "# Pearson's Correlation for second scatterplot\n",
    "\n",
    "# Output of Pearson's shows -.03 which would show a negative direction and weak in strength. When the cultural \n",
    "# similarities percentage is high, the divorce probability rate is lower. And vice versa, so this would also \n",
    "# confirm the scatter plot analysis. \n",
    "\n",
    "np.corrcoef(clean_data.DivorceProbability, clean_data.CulturalSimilarities)"
   ]
  },
  {
   "cell_type": "code",
   "execution_count": 160,
   "id": "e408114e",
   "metadata": {},
   "outputs": [],
   "source": [
    "# Package to remove warnings\n",
    "\n",
    "import warnings\n",
    "\n",
    "warnings.filterwarnings('ignore', category=RuntimeWarning)"
   ]
  },
  {
   "cell_type": "code",
   "execution_count": 164,
   "id": "c1f5e7ce",
   "metadata": {},
   "outputs": [],
   "source": [
    "# Conduct a test on your hypothesis using one of the methods covered in Chapter 9\n",
    "\n",
    "# I will conduct a correlation test on the variable \"Number of children in a previous marriage\" to see if there is a \n",
    "# correlation with the divorce probability variable.\n",
    "\n",
    "# My null hypothesis is there is no correlation between number of children in a previous marriage and the divorce\n",
    "# probability rate therefore it is least likely to be a high factor of divorce rate.\n",
    "\n",
    "# By shuffling the observed values, we can simulate where the distributions of the number of children in a previous\n",
    "# marriage is the same as the divorce probability rate but have the variables be unrelated to one another\n",
    "\n",
    "class CorrelationPermute(thinkstats2.HypothesisTest):\n",
    "\n",
    "    def TestStatistic(self, data):\n",
    "        xs, ys = data\n",
    "        test_stat = abs(thinkstats2.Corr(xs, ys))\n",
    "        return test_stat\n",
    "\n",
    "    def RunModel(self):\n",
    "        xs, ys = self.data\n",
    "        xs = np.random.permutation(xs)\n",
    "        return xs, ys"
   ]
  },
  {
   "cell_type": "code",
   "execution_count": 165,
   "id": "dfc7f339",
   "metadata": {},
   "outputs": [],
   "source": [
    "# Creating a subset of dataset for \"No of Children from Previous Marriage\" and \"Divorce Probability\"\n",
    "\n",
    "perm_subset = clean_data.dropna(subset=['NoofChildrenfromPreviousMarriage', 'DivorceProbability'])\n",
    "perm_data = perm_subset.NoofChildrenfromPreviousMarriage.values, perm_subset.DivorceProbability.values"
   ]
  },
  {
   "cell_type": "code",
   "execution_count": 166,
   "id": "c455e97f",
   "metadata": {},
   "outputs": [
    {
     "data": {
      "text/plain": [
       "0.827"
      ]
     },
     "execution_count": 166,
     "metadata": {},
     "output_type": "execute_result"
    }
   ],
   "source": [
    "# Running correlation test on data subset\n",
    "\n",
    "# P-value is close to 1 meaning there is no difference between the two groups other than due to chance\n",
    "\n",
    "corr_test = CorrelationPermute(perm_data)\n",
    "pvalue = corr_test.PValue()\n",
    "pvalue"
   ]
  },
  {
   "cell_type": "code",
   "execution_count": 167,
   "id": "bb9e39a4",
   "metadata": {},
   "outputs": [
    {
     "name": "stdout",
     "output_type": "stream",
     "text": [
      "Correlation (actual): 0.02049049722527425\n",
      "Correlation (highest value from simulations): 0.3214299914591279\n"
     ]
    }
   ],
   "source": [
    "# Compare the actual correlation with the simulated correlation\n",
    "\n",
    "# Actual correlation is 0.02, and the simulated is 0.32. The actual correlation shows it was unlikely caused by\n",
    "# chance, but the simulated correlation increases so it still less likely caused by chance.\n",
    "\n",
    "print('Correlation (actual):', corr_test.actual)\n",
    "print('Correlation (highest value from simulations):', corr_test.MaxTestStat())"
   ]
  },
  {
   "cell_type": "code",
   "execution_count": 174,
   "id": "139de5e4",
   "metadata": {},
   "outputs": [
    {
     "data": {
      "text/html": [
       "<table class=\"simpletable\">\n",
       "<caption>OLS Regression Results</caption>\n",
       "<tr>\n",
       "  <th>Dep. Variable:</th>    <td>DivorceProbability</td> <th>  R-squared:         </th> <td>   0.000</td>\n",
       "</tr>\n",
       "<tr>\n",
       "  <th>Model:</th>                    <td>OLS</td>        <th>  Adj. R-squared:    </th> <td>  -0.010</td>\n",
       "</tr>\n",
       "<tr>\n",
       "  <th>Method:</th>              <td>Least Squares</td>   <th>  F-statistic:       </th> <td> 0.04116</td>\n",
       "</tr>\n",
       "<tr>\n",
       "  <th>Date:</th>              <td>Wed, 15 Nov 2023</td>  <th>  Prob (F-statistic):</th>  <td> 0.840</td> \n",
       "</tr>\n",
       "<tr>\n",
       "  <th>Time:</th>                  <td>14:17:26</td>      <th>  Log-Likelihood:    </th> <td> -83.918</td>\n",
       "</tr>\n",
       "<tr>\n",
       "  <th>No. Observations:</th>       <td>   100</td>       <th>  AIC:               </th> <td>   171.8</td>\n",
       "</tr>\n",
       "<tr>\n",
       "  <th>Df Residuals:</th>           <td>    98</td>       <th>  BIC:               </th> <td>   177.0</td>\n",
       "</tr>\n",
       "<tr>\n",
       "  <th>Df Model:</th>               <td>     1</td>       <th>                     </th>     <td> </td>   \n",
       "</tr>\n",
       "<tr>\n",
       "  <th>Covariance Type:</th>       <td>nonrobust</td>     <th>                     </th>     <td> </td>   \n",
       "</tr>\n",
       "</table>\n",
       "<table class=\"simpletable\">\n",
       "<tr>\n",
       "                  <td></td>                    <th>coef</th>     <th>std err</th>      <th>t</th>      <th>P>|t|</th>  <th>[0.025</th>    <th>0.975]</th>  \n",
       "</tr>\n",
       "<tr>\n",
       "  <th>Intercept</th>                        <td>    2.0962</td> <td>    0.154</td> <td>   13.627</td> <td> 0.000</td> <td>    1.791</td> <td>    2.402</td>\n",
       "</tr>\n",
       "<tr>\n",
       "  <th>NoofChildrenfromPreviousMarriage</th> <td>   -0.0097</td> <td>    0.048</td> <td>   -0.203</td> <td> 0.840</td> <td>   -0.104</td> <td>    0.085</td>\n",
       "</tr>\n",
       "</table>\n",
       "<table class=\"simpletable\">\n",
       "<tr>\n",
       "  <th>Omnibus:</th>       <td>26.556</td> <th>  Durbin-Watson:     </th> <td>   1.713</td>\n",
       "</tr>\n",
       "<tr>\n",
       "  <th>Prob(Omnibus):</th> <td> 0.000</td> <th>  Jarque-Bera (JB):  </th> <td>   5.635</td>\n",
       "</tr>\n",
       "<tr>\n",
       "  <th>Skew:</th>          <td>-0.096</td> <th>  Prob(JB):          </th> <td>  0.0598</td>\n",
       "</tr>\n",
       "<tr>\n",
       "  <th>Kurtosis:</th>      <td> 1.853</td> <th>  Cond. No.          </th> <td>    9.52</td>\n",
       "</tr>\n",
       "</table><br/><br/>Notes:<br/>[1] Standard Errors assume that the covariance matrix of the errors is correctly specified."
      ],
      "text/latex": [
       "\\begin{center}\n",
       "\\begin{tabular}{lclc}\n",
       "\\toprule\n",
       "\\textbf{Dep. Variable:}                   & DivorceProbability & \\textbf{  R-squared:         } &     0.000   \\\\\n",
       "\\textbf{Model:}                           &        OLS         & \\textbf{  Adj. R-squared:    } &    -0.010   \\\\\n",
       "\\textbf{Method:}                          &   Least Squares    & \\textbf{  F-statistic:       } &   0.04116   \\\\\n",
       "\\textbf{Date:}                            &  Wed, 15 Nov 2023  & \\textbf{  Prob (F-statistic):} &    0.840    \\\\\n",
       "\\textbf{Time:}                            &      14:17:26      & \\textbf{  Log-Likelihood:    } &   -83.918   \\\\\n",
       "\\textbf{No. Observations:}                &          100       & \\textbf{  AIC:               } &     171.8   \\\\\n",
       "\\textbf{Df Residuals:}                    &           98       & \\textbf{  BIC:               } &     177.0   \\\\\n",
       "\\textbf{Df Model:}                        &            1       & \\textbf{                     } &             \\\\\n",
       "\\textbf{Covariance Type:}                 &     nonrobust      & \\textbf{                     } &             \\\\\n",
       "\\bottomrule\n",
       "\\end{tabular}\n",
       "\\begin{tabular}{lcccccc}\n",
       "                                          & \\textbf{coef} & \\textbf{std err} & \\textbf{t} & \\textbf{P$> |$t$|$} & \\textbf{[0.025} & \\textbf{0.975]}  \\\\\n",
       "\\midrule\n",
       "\\textbf{Intercept}                        &       2.0962  &        0.154     &    13.627  &         0.000        &        1.791    &        2.402     \\\\\n",
       "\\textbf{NoofChildrenfromPreviousMarriage} &      -0.0097  &        0.048     &    -0.203  &         0.840        &       -0.104    &        0.085     \\\\\n",
       "\\bottomrule\n",
       "\\end{tabular}\n",
       "\\begin{tabular}{lclc}\n",
       "\\textbf{Omnibus:}       & 26.556 & \\textbf{  Durbin-Watson:     } &    1.713  \\\\\n",
       "\\textbf{Prob(Omnibus):} &  0.000 & \\textbf{  Jarque-Bera (JB):  } &    5.635  \\\\\n",
       "\\textbf{Skew:}          & -0.096 & \\textbf{  Prob(JB):          } &   0.0598  \\\\\n",
       "\\textbf{Kurtosis:}      &  1.853 & \\textbf{  Cond. No.          } &     9.52  \\\\\n",
       "\\bottomrule\n",
       "\\end{tabular}\n",
       "%\\caption{OLS Regression Results}\n",
       "\\end{center}\n",
       "\n",
       "Notes: \\newline\n",
       " [1] Standard Errors assume that the covariance matrix of the errors is correctly specified."
      ],
      "text/plain": [
       "<class 'statsmodels.iolib.summary.Summary'>\n",
       "\"\"\"\n",
       "                            OLS Regression Results                            \n",
       "==============================================================================\n",
       "Dep. Variable:     DivorceProbability   R-squared:                       0.000\n",
       "Model:                            OLS   Adj. R-squared:                 -0.010\n",
       "Method:                 Least Squares   F-statistic:                   0.04116\n",
       "Date:                Wed, 15 Nov 2023   Prob (F-statistic):              0.840\n",
       "Time:                        14:17:26   Log-Likelihood:                -83.918\n",
       "No. Observations:                 100   AIC:                             171.8\n",
       "Df Residuals:                      98   BIC:                             177.0\n",
       "Df Model:                           1                                         \n",
       "Covariance Type:            nonrobust                                         \n",
       "====================================================================================================\n",
       "                                       coef    std err          t      P>|t|      [0.025      0.975]\n",
       "----------------------------------------------------------------------------------------------------\n",
       "Intercept                            2.0962      0.154     13.627      0.000       1.791       2.402\n",
       "NoofChildrenfromPreviousMarriage    -0.0097      0.048     -0.203      0.840      -0.104       0.085\n",
       "==============================================================================\n",
       "Omnibus:                       26.556   Durbin-Watson:                   1.713\n",
       "Prob(Omnibus):                  0.000   Jarque-Bera (JB):                5.635\n",
       "Skew:                          -0.096   Prob(JB):                       0.0598\n",
       "Kurtosis:                       1.853   Cond. No.                         9.52\n",
       "==============================================================================\n",
       "\n",
       "Notes:\n",
       "[1] Standard Errors assume that the covariance matrix of the errors is correctly specified.\n",
       "\"\"\""
      ]
     },
     "execution_count": 174,
     "metadata": {},
     "output_type": "execute_result"
    }
   ],
   "source": [
    "# For this project, conduct a regression analysis on either one dependent and one explanatory variable, or multiple\n",
    "# explanatory variables (Chapter 10 & 11). \n",
    "\n",
    "import statsmodels.formula.api as smf\n",
    "\n",
    "# Simple Linear Regression of Number of Children from a Previous Marriage and the Divorce Probability\n",
    "\n",
    "formula = 'DivorceProbability ~ NoofChildrenfromPreviousMarriage'\n",
    "model = smf.ols(formula, data=clean_data)\n",
    "results = model.fit()\n",
    "results.summary()"
   ]
  },
  {
   "cell_type": "code",
   "execution_count": 175,
   "id": "960d5712",
   "metadata": {},
   "outputs": [
    {
     "data": {
      "text/html": [
       "<table class=\"simpletable\">\n",
       "<caption>OLS Regression Results</caption>\n",
       "<tr>\n",
       "  <th>Dep. Variable:</th>    <td>DivorceProbability</td> <th>  R-squared:         </th> <td>   0.011</td>\n",
       "</tr>\n",
       "<tr>\n",
       "  <th>Model:</th>                    <td>OLS</td>        <th>  Adj. R-squared:    </th> <td>  -0.031</td>\n",
       "</tr>\n",
       "<tr>\n",
       "  <th>Method:</th>              <td>Least Squares</td>   <th>  F-statistic:       </th> <td>  0.2523</td>\n",
       "</tr>\n",
       "<tr>\n",
       "  <th>Date:</th>              <td>Wed, 15 Nov 2023</td>  <th>  Prob (F-statistic):</th>  <td> 0.908</td> \n",
       "</tr>\n",
       "<tr>\n",
       "  <th>Time:</th>                  <td>14:17:53</td>      <th>  Log-Likelihood:    </th> <td> -83.410</td>\n",
       "</tr>\n",
       "<tr>\n",
       "  <th>No. Observations:</th>       <td>   100</td>       <th>  AIC:               </th> <td>   176.8</td>\n",
       "</tr>\n",
       "<tr>\n",
       "  <th>Df Residuals:</th>           <td>    95</td>       <th>  BIC:               </th> <td>   189.8</td>\n",
       "</tr>\n",
       "<tr>\n",
       "  <th>Df Model:</th>               <td>     4</td>       <th>                     </th>     <td> </td>   \n",
       "</tr>\n",
       "<tr>\n",
       "  <th>Covariance Type:</th>       <td>nonrobust</td>     <th>                     </th>     <td> </td>   \n",
       "</tr>\n",
       "</table>\n",
       "<table class=\"simpletable\">\n",
       "<tr>\n",
       "                  <td></td>                    <th>coef</th>     <th>std err</th>      <th>t</th>      <th>P>|t|</th>  <th>[0.025</th>    <th>0.975]</th>  \n",
       "</tr>\n",
       "<tr>\n",
       "  <th>Intercept</th>                        <td>    2.3191</td> <td>    0.352</td> <td>    6.583</td> <td> 0.000</td> <td>    1.620</td> <td>    3.018</td>\n",
       "</tr>\n",
       "<tr>\n",
       "  <th>NoofChildrenfromPreviousMarriage</th> <td>   -0.0070</td> <td>    0.049</td> <td>   -0.142</td> <td> 0.887</td> <td>   -0.104</td> <td>    0.090</td>\n",
       "</tr>\n",
       "<tr>\n",
       "  <th>CulturalSimilarities</th>             <td>   -0.0005</td> <td>    0.002</td> <td>   -0.237</td> <td> 0.813</td> <td>   -0.005</td> <td>    0.004</td>\n",
       "</tr>\n",
       "<tr>\n",
       "  <th>CommonInterests</th>                  <td>   -0.0017</td> <td>    0.004</td> <td>   -0.414</td> <td> 0.680</td> <td>   -0.010</td> <td>    0.007</td>\n",
       "</tr>\n",
       "<tr>\n",
       "  <th>DesiretoMarry</th>                    <td>   -0.0017</td> <td>    0.002</td> <td>   -0.816</td> <td> 0.417</td> <td>   -0.006</td> <td>    0.002</td>\n",
       "</tr>\n",
       "</table>\n",
       "<table class=\"simpletable\">\n",
       "<tr>\n",
       "  <th>Omnibus:</th>       <td>21.669</td> <th>  Durbin-Watson:     </th> <td>   1.725</td>\n",
       "</tr>\n",
       "<tr>\n",
       "  <th>Prob(Omnibus):</th> <td> 0.000</td> <th>  Jarque-Bera (JB):  </th> <td>   5.324</td>\n",
       "</tr>\n",
       "<tr>\n",
       "  <th>Skew:</th>          <td>-0.133</td> <th>  Prob(JB):          </th> <td>  0.0698</td>\n",
       "</tr>\n",
       "<tr>\n",
       "  <th>Kurtosis:</th>      <td> 1.901</td> <th>  Cond. No.          </th> <td>    631.</td>\n",
       "</tr>\n",
       "</table><br/><br/>Notes:<br/>[1] Standard Errors assume that the covariance matrix of the errors is correctly specified."
      ],
      "text/latex": [
       "\\begin{center}\n",
       "\\begin{tabular}{lclc}\n",
       "\\toprule\n",
       "\\textbf{Dep. Variable:}                   & DivorceProbability & \\textbf{  R-squared:         } &     0.011   \\\\\n",
       "\\textbf{Model:}                           &        OLS         & \\textbf{  Adj. R-squared:    } &    -0.031   \\\\\n",
       "\\textbf{Method:}                          &   Least Squares    & \\textbf{  F-statistic:       } &    0.2523   \\\\\n",
       "\\textbf{Date:}                            &  Wed, 15 Nov 2023  & \\textbf{  Prob (F-statistic):} &    0.908    \\\\\n",
       "\\textbf{Time:}                            &      14:17:53      & \\textbf{  Log-Likelihood:    } &   -83.410   \\\\\n",
       "\\textbf{No. Observations:}                &          100       & \\textbf{  AIC:               } &     176.8   \\\\\n",
       "\\textbf{Df Residuals:}                    &           95       & \\textbf{  BIC:               } &     189.8   \\\\\n",
       "\\textbf{Df Model:}                        &            4       & \\textbf{                     } &             \\\\\n",
       "\\textbf{Covariance Type:}                 &     nonrobust      & \\textbf{                     } &             \\\\\n",
       "\\bottomrule\n",
       "\\end{tabular}\n",
       "\\begin{tabular}{lcccccc}\n",
       "                                          & \\textbf{coef} & \\textbf{std err} & \\textbf{t} & \\textbf{P$> |$t$|$} & \\textbf{[0.025} & \\textbf{0.975]}  \\\\\n",
       "\\midrule\n",
       "\\textbf{Intercept}                        &       2.3191  &        0.352     &     6.583  &         0.000        &        1.620    &        3.018     \\\\\n",
       "\\textbf{NoofChildrenfromPreviousMarriage} &      -0.0070  &        0.049     &    -0.142  &         0.887        &       -0.104    &        0.090     \\\\\n",
       "\\textbf{CulturalSimilarities}             &      -0.0005  &        0.002     &    -0.237  &         0.813        &       -0.005    &        0.004     \\\\\n",
       "\\textbf{CommonInterests}                  &      -0.0017  &        0.004     &    -0.414  &         0.680        &       -0.010    &        0.007     \\\\\n",
       "\\textbf{DesiretoMarry}                    &      -0.0017  &        0.002     &    -0.816  &         0.417        &       -0.006    &        0.002     \\\\\n",
       "\\bottomrule\n",
       "\\end{tabular}\n",
       "\\begin{tabular}{lclc}\n",
       "\\textbf{Omnibus:}       & 21.669 & \\textbf{  Durbin-Watson:     } &    1.725  \\\\\n",
       "\\textbf{Prob(Omnibus):} &  0.000 & \\textbf{  Jarque-Bera (JB):  } &    5.324  \\\\\n",
       "\\textbf{Skew:}          & -0.133 & \\textbf{  Prob(JB):          } &   0.0698  \\\\\n",
       "\\textbf{Kurtosis:}      &  1.901 & \\textbf{  Cond. No.          } &     631.  \\\\\n",
       "\\bottomrule\n",
       "\\end{tabular}\n",
       "%\\caption{OLS Regression Results}\n",
       "\\end{center}\n",
       "\n",
       "Notes: \\newline\n",
       " [1] Standard Errors assume that the covariance matrix of the errors is correctly specified."
      ],
      "text/plain": [
       "<class 'statsmodels.iolib.summary.Summary'>\n",
       "\"\"\"\n",
       "                            OLS Regression Results                            \n",
       "==============================================================================\n",
       "Dep. Variable:     DivorceProbability   R-squared:                       0.011\n",
       "Model:                            OLS   Adj. R-squared:                 -0.031\n",
       "Method:                 Least Squares   F-statistic:                    0.2523\n",
       "Date:                Wed, 15 Nov 2023   Prob (F-statistic):              0.908\n",
       "Time:                        14:17:53   Log-Likelihood:                -83.410\n",
       "No. Observations:                 100   AIC:                             176.8\n",
       "Df Residuals:                      95   BIC:                             189.8\n",
       "Df Model:                           4                                         \n",
       "Covariance Type:            nonrobust                                         \n",
       "====================================================================================================\n",
       "                                       coef    std err          t      P>|t|      [0.025      0.975]\n",
       "----------------------------------------------------------------------------------------------------\n",
       "Intercept                            2.3191      0.352      6.583      0.000       1.620       3.018\n",
       "NoofChildrenfromPreviousMarriage    -0.0070      0.049     -0.142      0.887      -0.104       0.090\n",
       "CulturalSimilarities                -0.0005      0.002     -0.237      0.813      -0.005       0.004\n",
       "CommonInterests                     -0.0017      0.004     -0.414      0.680      -0.010       0.007\n",
       "DesiretoMarry                       -0.0017      0.002     -0.816      0.417      -0.006       0.002\n",
       "==============================================================================\n",
       "Omnibus:                       21.669   Durbin-Watson:                   1.725\n",
       "Prob(Omnibus):                  0.000   Jarque-Bera (JB):                5.324\n",
       "Skew:                          -0.133   Prob(JB):                       0.0698\n",
       "Kurtosis:                       1.901   Cond. No.                         631.\n",
       "==============================================================================\n",
       "\n",
       "Notes:\n",
       "[1] Standard Errors assume that the covariance matrix of the errors is correctly specified.\n",
       "\"\"\""
      ]
     },
     "execution_count": 175,
     "metadata": {},
     "output_type": "execute_result"
    }
   ],
   "source": [
    "# Explanatory variables: No of Children from Previous Marriage, Cultural Similarities, Common Interests, and\n",
    "# Desire to Marry\n",
    "\n",
    "formula = 'DivorceProbability ~ NoofChildrenfromPreviousMarriage + CulturalSimilarities + CommonInterests + DesiretoMarry'\n",
    "model = smf.ols(formula, data = clean_data)\n",
    "results = model.fit()\n",
    "results.summary()"
   ]
  },
  {
   "cell_type": "code",
   "execution_count": null,
   "id": "4af19241",
   "metadata": {},
   "outputs": [],
   "source": [
    "# A 250-500-word paper summarizing the following: Statistical/Hypothetical Question\n",
    "# Outcome of your EDA\n",
    "# Variable #1: Cultural Similarities\n",
    "# The histogram shows that there are more couples with less cultural similarities. Every couple in this dataset has\n",
    "# gone through divorce so this histogram shows that couples with less cultural similarities are more likely to get \n",
    "# a divorce than those with more cultural similarities. The mean is 45, so less than half had cultural similarities.  \n",
    "# Variable #2: Common Interests\n",
    "# This histogram shows the mean being roughly 75% of couples having common interests, and outliers in the 90% range.\n",
    "# The mode shows many high percentages being in the 99% range but drops to very few in the 90%, that are far from \n",
    "# the modes. PMF and CDF of this variable also confirms this. \n",
    "# Variable #3: Number of Children from a Previous Marriage\n",
    "# This histogram shows the highest frequency a little over 2 children, and since there cannot be half of a child, it\n",
    "# would be 3 children.  The mean also confirms this by being 3.004. I also used this variable to test my hypothesis\n",
    "# by using a correlation test. The test results show a high p-value of 0.827 which would prove my null hypothesis \n",
    "# of number of children from a previous marriage not having a correlation with a higher divorce probability rate to\n",
    "# be true. It went through a simulated correlation as well which also proved to have very low chances of correlation\n",
    "# with one another. \n",
    "# Variable #4: Desire to Marry\n",
    "# This histogram shows the highest frequency of the desire to marry percentage in the 5% range. This assumption \n",
    "# would line up with the dataset marriages ending up in divorce. The mean is also less than 50%. I also did a \n",
    "# scatter plot analysis on this variable, and it confirms with the regression line of the higher the divorce \n",
    "# probability rate, the lower the desire to marry percentage was. \n",
    "# Variable #5: Divorce Probability \n",
    "# The divorce probability rate histogram shows the dataset predicted the rate to be on the lower end for these \n",
    "# respondents, yet they all ended their marriages in divorce. The mean divorce probability rate was 2.06 meanwhile \n",
    "# that is low rate for the overall divorce rate scale. I used this variable as the dependent one for the regression\n",
    "# analysis and the other 4 variables as the explanatory. This analysis showed that for my statistical question of \n",
    "# which variable was the highest factor of divorce, it would be desire to marry as the highest, then common \n",
    "# interests, cultural similarities, and least likely factor is the number of children from a previous marriage.\n",
    "\n",
    "# What do you feel was missed during the analysis?\n",
    "# I think if I were to use another dataset with extremely high divorce probability rates to compare to this dataset\n",
    "# with overall low rates, would help my overall analysis even more. It would either strengthen my EDA or weaken it \n",
    "# by showing completely different results. \n",
    "\n",
    "# Were there any variables you felt could have helped in the analysis?\n",
    "# This dataset had a total of 31 variables, so I think adding more of those variables would just have added to my \n",
    "# analysis and possibly change the output of highest divorce factors.\n",
    "\n",
    "# Were there any assumptions made you felt were incorrect?\n",
    "# I was surprised to see that there were no couples in this dataset to have 0% common interests. The lowest percent\n",
    "# of common interests was 52% so about half in common. I was also not expecting the desire to marry percentage to \n",
    "# be as low as it was. I assumed the lowest mode to be about 50%, not 5%. I would assume if one gets married, they\n",
    "# would at least half desire to be married, but this dataset showed otherwise.\n",
    "\n",
    "# What challenges did you face, what did you not fully understand?\n",
    "# Challenges I faced were deciding whether to use the authors code or not for the analysis. I ended up imported \n",
    "# numpy, seaborn, and panda packages as well. Some things I did not fully understand were some outputs in the \n",
    "# regression analysis such as “AIC” and “BIC” acronyms.\n"
   ]
  }
 ],
 "metadata": {
  "kernelspec": {
   "display_name": "Python 3 (ipykernel)",
   "language": "python",
   "name": "python3"
  },
  "language_info": {
   "codemirror_mode": {
    "name": "ipython",
    "version": 3
   },
   "file_extension": ".py",
   "mimetype": "text/x-python",
   "name": "python",
   "nbconvert_exporter": "python",
   "pygments_lexer": "ipython3",
   "version": "3.11.4"
  }
 },
 "nbformat": 4,
 "nbformat_minor": 5
}
